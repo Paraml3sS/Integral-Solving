{
 "cells": [
  {
   "cell_type": "code",
   "execution_count": 1,
   "metadata": {},
   "outputs": [],
   "source": [
    "import numpy as np\n",
    "import math\n",
    "\n",
    "from numpy import pi\n",
    "from sympy import *"
   ]
  },
  {
   "cell_type": "markdown",
   "metadata": {},
   "source": [
    "---"
   ]
  },
  {
   "cell_type": "code",
   "execution_count": 2,
   "metadata": {},
   "outputs": [],
   "source": [
    "class IntegralForDirichlet:\n",
    "    \n",
    "    def __init__(self, func, curve, domain, iterations, precision = 0.01):\n",
    "        self.func, self.funcSymbols = func\n",
    "        self.curve = np.array(curve)\n",
    "        self.domain = domain\n",
    "        self.N, self.n = iterations\n",
    "        \n",
    "        self.__initGradient()\n",
    "        self.__initCurveDerivatives()\n",
    "        \n",
    "# Initializaton functions\n",
    "#----------------------------------------------------------------------        \n",
    "    \n",
    "    def __initCurveDerivatives(self):\n",
    "        self.curve1D = self.curveDiff(self.curve)\n",
    "        self.curve2D = self.curveDiff(self.curve1D)\n",
    "        \n",
    "    def __initGradient(self):\n",
    "        self.funcGradient = self.gradientDiff(self.func)\n",
    "        \n",
    "\n",
    "\n",
    "# Main functions\n",
    "#----------------------------------------------------------------------        \n",
    " \n",
    "    def solve(self):\n",
    "        core = 0\n",
    "        \n",
    "        aK = 1 / self.N\n",
    "        \n",
    "        for k in range(1, self.N):\n",
    "            etaK = 1 - (2*k-1)/(2*self.N)\n",
    "            \n",
    "            for j in range(2 * self.n - 1):\n",
    "                tK = j*pi / self.n\n",
    "                \n",
    "                core += aK * self.getCore(self.parametrize(0.3, pi/3), self.parametrize(etaK, tK))\n",
    "        \n",
    "        return 1/(2*self.n) * abs(core)\n",
    "    \n",
    "    \n",
    "    def getCore(self, x,y):\n",
    "        eta, _ = x\n",
    "        ksi, _ = y\n",
    "        \n",
    "        return self.kernel(x,y) if eta != ksi else self.kernelSingular(x,y)\n",
    "        \n",
    "    \n",
    "    def kernel(self, x,y): return np.dot( (x-y), self.gradient(x) ) * self.jacobian(y) \\\n",
    "                                    / ( self.functionSubs(self.func, y) * (np.linalg.norm(x-y)**2) )\n",
    "    \n",
    "        \n",
    "    def kernelSingular(self, x,y):\n",
    "        eta, t = x\n",
    "        ksi, tau = y\n",
    "        \n",
    "        self.calculateSingularFunctions(t, tau)\n",
    "                      \n",
    "        firstPart = np.dot( self.gradient(eta*self.curveT), self.normalVector ) \\\n",
    "                        * self.innerKernelOne(t, tau)\n",
    "        \n",
    "        secondPart = (1 / self.euclideanDistance) \\\n",
    "                        * np.dot( self.gradient(eta*self.curveT), self.tangentVector ) \\\n",
    "                        * self.innerKernelTwo(t, tau)\n",
    "        \n",
    "        thirdPart = (1 / (2*self.euclideanDistance)) \\\n",
    "                        * np.dot( self.gradient(eta*self.curveT), self.tangentVector )\n",
    "        \n",
    "        denominator = eta*self.functionSubs(self.func, eta*self.curveTau)\n",
    "        \n",
    "        jacobian = self.jacobian(y)\n",
    "        cot = self.singularCot(t, tau)\n",
    "        \n",
    "        return (firstPart - secondPart - thirdPart) * cot * jacobian  / denominator \n",
    "    \n",
    "#----------------------------------------------------------------------      \n",
    "\n",
    "    def innerKernelOne(self, t, tau):\n",
    "        \n",
    "        if t == tau:\n",
    "            vector = np.flip(self.curve1DT)\n",
    "            \n",
    "            return np.multiply( self.negateAt(vector, 0), self.curve2DT ) / ( 2 * self.euclideanDistance ) ** 3\n",
    "                        \n",
    "        return np.dot( self.curveT - self.curveTau, self.normalVector ) / np.linalg.norm( self.curveT - self.curveTau ) ** 2\n",
    "        \n",
    "        \n",
    "    def innerKernelTwo(self, t, tau):\n",
    "        \n",
    "        if t == tau:\n",
    "            return np.dot(self.curve1DT, self.curve2DT) / ( 2 * self.euclideanDistance ) ** 2     \n",
    "        \n",
    "        return np.dot( self.curveT - self.curveTau, self.curve1DT ) / np.linalg.norm( self.curveT - self.curveTau ) ** 2  \\\n",
    "            - sin(tau -t) / ( 2 * (1 - cos(tau-t) ))\n",
    "    \n",
    "    \n",
    "    \n",
    "    def calculateSingularFunctions(self, t, tau):\n",
    "        self.normalVector = self.normal(t)\n",
    "        self.tangentVector = self.tangent(t)\n",
    "        \n",
    "        self.euclideanDistance = np.linalg.norm(self.curveSubs(self.curve1D, t))\n",
    "        \n",
    "        self.curveT = self.curveSubs(self.curve, t)        \n",
    "        self.curveTau = self.curveSubs(self.curve, tau)\n",
    "        \n",
    "        self.curve1DT = self.curveSubs(self.curve1D, t)\n",
    "        self.curve2DT = self.curveSubs(self.curve2D, t)\n",
    "        \n",
    "        \n",
    "  \n",
    "    \n",
    "#----------------------------------------------------------------------         \n",
    "\n",
    "    def parametrize(self, eta, t): return eta * self.curveSubs(self.curve, t)\n",
    "        \n",
    "\n",
    "    def normal(self, value):\n",
    "        \n",
    "        vector = np.flip(self.curveSubs(self.curve1D, value))\n",
    "        \n",
    "        vector = self.negateAt(vector, -1)\n",
    "        \n",
    "        return vector / np.linalg.norm(vector)\n",
    "    \n",
    "    \n",
    "    def tangent(self, value):\n",
    "        \n",
    "        vector = self.curveSubs(self.curve1D, value)\n",
    "        \n",
    "        return vector / np.linalg.norm(vector)\n",
    "    \n",
    "    \n",
    "    def gradient(self, vector): \n",
    "        return np.array([ self.functionSubs(function, vector) for function in self.funcGradient ])\n",
    "    \n",
    "    \n",
    "    def jacobian(self, vector):\n",
    "        ksi, tau = vector\n",
    "        \n",
    "        innerVector = np.multiply( self.curveSubs(self.curve, tau), np.flip( self.curveSubs(self.curve1D, tau)) )\n",
    "        \n",
    "        return ksi * (innerVector[0] - innerVector[-1])\n",
    "    \n",
    "    \n",
    "    def singularCot(self, t, tau): \n",
    "        return - 1/self.n * sum([ sin(m*(t-tau)) for m in range(self.n) ]) - 1/(2*self.n) * sin(n*(t-tau))\n",
    "\n",
    "\n",
    "# Helper functions\n",
    "#----------------------------------------------------------------------     \n",
    "\n",
    "    def functionSubs(self, function, vector): return float(function.subs(zip(self.funcSymbols, vector)))\n",
    "\n",
    "    def curveSubs(self, curve, value): return np.array([ float(function.subs({s:value})) for function in curve ])\n",
    "           \n",
    "    def curveDiff(self, curve): return np.array([ function.diff() for function in curve ])\n",
    "    \n",
    "    def gradientDiff(self, function): return np.array([ function.diff(symbol) for symbol in self.funcSymbols ])    \n",
    "    \n",
    "    def negateAt(self, vector, index): \n",
    "        \n",
    "        vector[index] = vector[index] * -1\n",
    "        \n",
    "        return vector\n",
    "    "
   ]
  },
  {
   "cell_type": "markdown",
   "metadata": {},
   "source": [
    "---"
   ]
  },
  {
   "cell_type": "markdown",
   "metadata": {},
   "source": [
    "## Initialization"
   ]
  },
  {
   "cell_type": "code",
   "execution_count": 3,
   "metadata": {},
   "outputs": [],
   "source": [
    "s = Symbol(\"s\")                           # substitution value\n",
    "funcSymbols = [a, b] = symbols(\"a, b\")    # func substitution values"
   ]
  },
  {
   "cell_type": "markdown",
   "metadata": {},
   "source": [
    "---"
   ]
  },
  {
   "cell_type": "code",
   "execution_count": 4,
   "metadata": {},
   "outputs": [],
   "source": [
    "func = (a+b+2)**2, funcSymbols\n",
    "curve = x1, x2 = cos(s), sin(s)\n",
    "domain = (0, 1), (0, 2*pi)\n",
    "iterations = N, n = 10, 256"
   ]
  },
  {
   "cell_type": "markdown",
   "metadata": {},
   "source": [
    "## Calculation"
   ]
  },
  {
   "cell_type": "code",
   "execution_count": 5,
   "metadata": {},
   "outputs": [
    {
     "name": "stdout",
     "output_type": "stream",
     "text": [
      "\n",
      "==============================\n",
      "\n",
      "Result = 0.6946521147089756\n",
      "\n",
      "==============================\n",
      "\n"
     ]
    }
   ],
   "source": [
    "integralSolver = IntegralForDirichlet(func, curve, domain, iterations)\n",
    "\n",
    "\n",
    "print('\\n==============================\\n')\n",
    "\n",
    "result = integralSolver.solve()\n",
    "print(f'Result = {float(result)}')\n",
    "\n",
    "print('\\n==============================\\n')"
   ]
  },
  {
   "cell_type": "code",
   "execution_count": null,
   "metadata": {},
   "outputs": [],
   "source": []
  }
 ],
 "metadata": {
  "kernelspec": {
   "display_name": "Python 3",
   "language": "python",
   "name": "python3"
  },
  "language_info": {
   "codemirror_mode": {
    "name": "ipython",
    "version": 3
   },
   "file_extension": ".py",
   "mimetype": "text/x-python",
   "name": "python",
   "nbconvert_exporter": "python",
   "pygments_lexer": "ipython3",
   "version": "3.7.1"
  }
 },
 "nbformat": 4,
 "nbformat_minor": 2
}
